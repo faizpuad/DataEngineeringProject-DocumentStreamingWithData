{
 "cells": [
  {
   "cell_type": "markdown",
   "metadata": {},
   "source": [
    "Below serve as example on how api_client script should look like and not represent the full script"
   ]
  },
  {
   "cell_type": "code",
   "execution_count": 15,
   "metadata": {},
   "outputs": [],
   "source": [
    "#import related library here"
   ]
  },
  {
   "cell_type": "code",
   "execution_count": null,
   "metadata": {},
   "outputs": [],
   "source": [
    "# load output file\n",
    "line = linecache.getline('../../output/output.txt', 1)\n",
    "myjson = json.loads(line)"
   ]
  },
  {
   "cell_type": "markdown",
   "metadata": {},
   "source": [
    "# Testing fastapi"
   ]
  },
  {
   "cell_type": "code",
   "execution_count": 25,
   "metadata": {},
   "outputs": [],
   "source": [
    "# Define the models using Pydantic\n",
    "class CardHolder(BaseModel):\n",
    "    first: str\n",
    "    last: str\n",
    "    gender: str\n",
    "    dob: str  # Change to string for easier parsing\n",
    "\n",
    "class Address(BaseModel):\n",
    "    street: str\n",
    "    city: str\n",
    "    state: str\n",
    "    zip: int\n",
    "    lat: float\n",
    "    long: float\n",
    "\n",
    "# Function to process the transaction\n",
    "def process_transaction(data):\n",
    "    try:\n",
    "        # Create an instance of CreditTrx using the data\n",
    "        item = CreditTrx(**data)\n",
    "\n",
    "        # Validate and parse datetime data (trx and dob)\n",
    "        trx_date = datetime.strptime(item.trans_date_trans_time, 'put your desire format here').strftime(\"put your desire format here\")\n",
    "        item.trans_date_trans_time = trx_date\n",
    "        print('Parsed transaction timestamp: ', item.trans_date_trans_time)\n",
    "\n",
    "        dob_date = datetime.strptime(item.card_holder.dob, 'put your desire format here').strftime(\"put your desire format here\")\n",
    "        item.card_holder.dob = dob_date\n",
    "        print('Parsed date of birth: ', item.card_holder.dob)\n",
    "\n",
    "        # Convert the item back to JSON\n",
    "        json_of_item = item.json()\n",
    "        print(\"JSON representation of the item:\", json_of_item)\n",
    "\n",
    "    except ValueError as e:\n",
    "        print(\"ValueError:\", e)"
   ]
  }
 ],
 "metadata": {
  "kernelspec": {
   "display_name": "myenv",
   "language": "python",
   "name": "python3"
  },
  "language_info": {
   "codemirror_mode": {
    "name": "ipython",
    "version": 3
   },
   "file_extension": ".py",
   "mimetype": "text/x-python",
   "name": "python",
   "nbconvert_exporter": "python",
   "pygments_lexer": "ipython3",
   "version": "3.12.4"
  }
 },
 "nbformat": 4,
 "nbformat_minor": 2
}
