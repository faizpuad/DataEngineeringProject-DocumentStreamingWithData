{
 "cells": [
  {
   "cell_type": "markdown",
   "metadata": {},
   "source": [
    "Below serve as example on how this script should look like and not represent the full script"
   ]
  },
  {
   "cell_type": "markdown",
   "metadata": {},
   "source": [
    "## Exploratory Data Analysis\n",
    "\n",
    "- **Objective**: \n",
    "    - check data quality\n",
    "    - check row and columns count/shape\n",
    "    - understand the data"
   ]
  },
  {
   "cell_type": "markdown",
   "metadata": {},
   "source": [
    "### Data dictionary\n",
    "\n",
    "| Column Name                | Description                                                              | Use                                                                                  |\n",
    "|----------------------------|--------------------------------------------------------------------------|-------------------------------------------------------------------------------------|\n",
    "| trans_date_trans_time      | The date and time when the transaction occurred.                        | Used for time-series analysis and understanding transaction patterns over time.     |\n",
    "| cc_num                     | The credit card number of the customer (masked or anonymized for privacy). | Identifies which customer made the transaction, useful for tracking customer behavior. |\n",
    "| merchant                   | The name of the merchant where the transaction took place.              | Helps analyze spending habits by merchant and identify potentially fraudulent merchants. |\n",
    "| category                   | The category of the merchant (e.g., miscellaneous, grocery, etc.).     | Used for categorizing transactions and analyzing spending by category.               |\n",
    "| amt                        | The amount of money involved in the transaction.                        | Important for calculating total spending, fraud detection, and transaction analysis. |\n",
    "| first                      | The first name of the credit card holder.                               | Useful for personalization and customer segmentation.                               |\n",
    "| last                       | The last name of the credit card holder.                                | Similar to the first name, helps in personalization and customer identification.    |\n",
    "| gender                     | The gender of the credit card holder.                                   | Used for demographic analysis and understanding spending patterns by gender.        |\n",
    "| street                     | The street address of the credit card holder.                           | Provides location data for geographic analysis of transactions.                     |\n",
    "| city                       | The city of the credit card holder.                                     | Used for geographic analysis and understanding local spending trends.              |\n",
    "| state                      | The state of the credit card holder.                                    | Important for regional analysis and fraud detection.                                |\n",
    "| zip                        | The zip code of the credit card holder.                                 | Used for local analysis and understanding demographic distributions.                 |\n",
    "| lat                        | The latitude of the credit card holder's location.                      | Used for mapping transactions and analyzing geographic trends.                      |\n",
    "| long                       | The longitude of the credit card holder's location.                     | Similar to latitude, helps in geographic analysis.                                  |\n",
    "| city_pop                   | The population of the city where the credit card holder resides.        | Useful for demographic analysis and understanding market size.                      |\n",
    "| job                        | The job title of the credit card holder.                                | Provides insights into spending patterns based on occupation.                       |\n",
    "| dob                        | The date of birth of the credit card holder.                            | Used for age analysis and understanding customer demographics.                      |\n",
    "| trans_num                  | A unique identifier for the transaction.                                | Essential for tracking individual transactions and preventing duplicates.            |\n",
    "| unix_time                  | The UNIX timestamp of the transaction.                                  | Useful for time-based operations and calculations.                                  |\n",
    "| merch_lat                  | The latitude of the merchant's location.                                | Important for analyzing merchant locations and trends.                              |\n",
    "| merch_long                 | The longitude of the merchant's location.                               | Similar to merch_lat, helps in geographic analysis.                                 |\n",
    "| is_fraud                   | A flag indicating whether the transaction is fraudulent (1 for fraud, 0 for legitimate). | Essential for training fraud detection models and evaluating transaction legitimacy.  |\n",
    "\n"
   ]
  },
  {
   "cell_type": "code",
   "execution_count": null,
   "metadata": {},
   "outputs": [],
   "source": [
    "#import related library"
   ]
  },
  {
   "cell_type": "code",
   "execution_count": null,
   "metadata": {},
   "outputs": [],
   "source": [
    "# read data\n",
    "data_loc = '../../data/fraudTrain.csv'\n",
    "\n",
    "df = pd.read_csv(data_loc,index_col=0).head(5)\n",
    "df.head(1).T"
   ]
  },
  {
   "cell_type": "code",
   "execution_count": null,
   "metadata": {},
   "outputs": [],
   "source": [
    "s = df.isnull().sum() > 0\n",
    "print(f'No of columns with missing rows: {len(s[s])}')\n",
    "print(f\"Check df shape -> rows,columns: {df.shape}\")"
   ]
  },
  {
   "cell_type": "code",
   "execution_count": null,
   "metadata": {},
   "outputs": [],
   "source": [
    "# check datatype\n",
    "df.dtypes"
   ]
  }
 ],
 "metadata": {
  "kernelspec": {
   "display_name": "myenv",
   "language": "python",
   "name": "python3"
  },
  "language_info": {
   "codemirror_mode": {
    "name": "ipython",
    "version": 3
   },
   "file_extension": ".py",
   "mimetype": "text/x-python",
   "name": "python",
   "nbconvert_exporter": "python",
   "pygments_lexer": "ipython3",
   "version": "3.12.4"
  }
 },
 "nbformat": 4,
 "nbformat_minor": 2
}
