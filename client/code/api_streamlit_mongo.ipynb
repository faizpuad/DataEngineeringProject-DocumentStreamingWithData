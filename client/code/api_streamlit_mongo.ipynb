{
 "cells": [
  {
   "cell_type": "markdown",
   "metadata": {},
   "source": [
    "Below serve as example on how api_streamlit_mongo script should look like and not represent the full script"
   ]
  },
  {
   "cell_type": "code",
   "execution_count": null,
   "metadata": {},
   "outputs": [],
   "source": [
    "#import related library"
   ]
  },
  {
   "cell_type": "code",
   "execution_count": null,
   "metadata": {},
   "outputs": [],
   "source": [
    "# Change the URL to your FastAPI service address\n",
    "url = \"http://localhost:xx/get_transactions/\"  # Adjust if using different service name\n",
    "\n",
    "# Sample credit card number for testing\n",
    "cc_num = \"2703186189652095\"  # Replace with a valid test CC number\n",
    "\n",
    "# Sending a POST request to the FastAPI endpoint\n",
    "response = requests.post(url, json={\"cc_num\": cc_num})\n",
    "\n",
    "# Print the response\n",
    "if response.status_code == 200:\n",
    "    print(\"Transactions found:\")\n",
    "    print(response.json())\n",
    "elif response.status_code == 404:\n",
    "    print(\"No transactions found.\")\n",
    "else:\n",
    "    print(f\"Error: {response.status_code} - {response.text}\")"
   ]
  }
 ],
 "metadata": {
  "kernelspec": {
   "display_name": "myenv",
   "language": "python",
   "name": "python3"
  },
  "language_info": {
   "codemirror_mode": {
    "name": "ipython",
    "version": 3
   },
   "file_extension": ".py",
   "mimetype": "text/x-python",
   "name": "python",
   "nbconvert_exporter": "python",
   "pygments_lexer": "ipython3",
   "version": "3.12.4"
  }
 },
 "nbformat": 4,
 "nbformat_minor": 2
}
